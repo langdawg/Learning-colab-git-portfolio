{
  "nbformat": 4,
  "nbformat_minor": 0,
  "metadata": {
    "colab": {
      "provenance": [],
      "toc_visible": true,
      "authorship_tag": "ABX9TyONtehqa0onwS4l4LdJfDq9",
      "include_colab_link": true
    },
    "kernelspec": {
      "name": "python3",
      "display_name": "Python 3"
    },
    "language_info": {
      "name": "python"
    }
  },
  "cells": [
    {
      "cell_type": "markdown",
      "metadata": {
        "id": "view-in-github",
        "colab_type": "text"
      },
      "source": [
        "<a href=\"https://colab.research.google.com/github/langdawg/Learning-colab-git-portfolio/blob/main/learning_colab1.ipynb\" target=\"_parent\"><img src=\"https://colab.research.google.com/assets/colab-badge.svg\" alt=\"Open In Colab\"/></a>"
      ]
    },
    {
      "cell_type": "markdown",
      "source": [
        "## Ingest"
      ],
      "metadata": {
        "id": "i_Rj9k56SQnM"
      }
    },
    {
      "cell_type": "code",
      "source": [
        "import pandas as pd"
      ],
      "metadata": {
        "id": "nZ5URsfCScpL"
      },
      "execution_count": 1,
      "outputs": []
    },
    {
      "cell_type": "markdown",
      "source": [
        "## EDA"
      ],
      "metadata": {
        "id": "SYriB3A1SSf6"
      }
    },
    {
      "cell_type": "code",
      "source": [],
      "metadata": {
        "id": "SqUjAQiNSgUE"
      },
      "execution_count": null,
      "outputs": []
    },
    {
      "cell_type": "markdown",
      "source": [
        "## Modeling"
      ],
      "metadata": {
        "id": "-HNrbCeLSUgL"
      }
    },
    {
      "cell_type": "code",
      "source": [],
      "metadata": {
        "id": "_R-J4CwJSg8-"
      },
      "execution_count": null,
      "outputs": []
    },
    {
      "cell_type": "markdown",
      "source": [
        "## Conclusion"
      ],
      "metadata": {
        "id": "2bfxA4sjSYEW"
      }
    },
    {
      "cell_type": "code",
      "source": [],
      "metadata": {
        "id": "5D_JihYRShxc"
      },
      "execution_count": null,
      "outputs": []
    }
  ]
}